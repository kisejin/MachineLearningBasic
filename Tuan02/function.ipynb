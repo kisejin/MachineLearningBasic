{
 "cells": [
  {
   "cell_type": "code",
   "execution_count": null,
   "metadata": {},
   "outputs": [],
   "source": [
    "def handle_outliers(df_col):\n",
    "    \"\"\"\n",
    "    Handle outliers in your data\n",
    "    :param df: pandas DataFrame\n",
    "    :param cols: list of column names\n",
    "    :return: pandas DataFrame\n",
    "    \"\"\"\n",
    "    q1 = np.percentile(df_col, 25)\n",
    "    q3 = np.percentile(df_col, 75)\n",
    "    iqr = q3 - q1\n",
    "    upper_bound = q3 + 1.5*iqr\n",
    "    lower_bound = q1 - 1.5*iqr\n",
    "    return np.where(df_col > upper_bound, upper_bound, np.where(df_col < lower_bound, lower_bound, df_col))\n",
    "\n",
    "def preprocessing_data(df, cols):\n",
    "    \"\"\"\n",
    "    Preprocess your data\n",
    "    :param df: pandas DataFrame\n",
    "    :param cols: list of column names\n",
    "    :return: pandas DataFrame\n",
    "    \"\"\"\n",
    "    # Todo: preprocess data\n",
    "    for col in cols:\n",
    "        df[col] = handle_outliers(df[col])\n",
    "    \n",
    "    return df"
   ]
  }
 ],
 "metadata": {
  "language_info": {
   "name": "python"
  },
  "orig_nbformat": 4
 },
 "nbformat": 4,
 "nbformat_minor": 2
}
